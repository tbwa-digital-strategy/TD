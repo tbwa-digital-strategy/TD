{
 "cells": [
  {
   "cell_type": "code",
   "execution_count": 1,
   "metadata": {},
   "outputs": [],
   "source": [
    "import pandas as pd\n",
    "\n",
    "import glob\n",
    "import plotly.plotly as py\n",
    "import plotly.figure_factory as ff\n",
    "import plotly\n",
    "import numpy as np\n",
    "import pandas as pd\n",
    "from collections import OrderedDict\n",
    "import folium\n",
    "import json\n",
    "import vincent\n",
    "import json\n",
    "import urllib\n",
    "import requests"
   ]
  },
  {
   "cell_type": "code",
   "execution_count": 3,
   "metadata": {
    "scrolled": true
   },
   "outputs": [],
   "source": [
    "fips_df = pd.read_csv('ZIP-COUNTY-FIPS_2018-03.csv')\n",
    "\n",
    "td_data = pd.read_csv('td_data.csv')\n",
    "\n",
    "zip_fip_dict = {}\n",
    "\n",
    "for i, row in fips_df.iterrows():\n",
    "    if len(str(row['zip'])) < 5:\n",
    "        new_zip = ''.join((5-len(str(row['zip'])))*['0'])+str(row['zip'])\n",
    "#         print(new_zip)\n",
    "        zip_fip_dict[str(new_zip)] = str(row['fips'])\n",
    "    else:\n",
    "        zip_fip_dict[str(row['zip'])] = str(row['fips'])\n",
    "\n",
    "fips = fips_df['fips']\n",
    "fips_padded = []\n",
    "for fip in fips:\n",
    "    if len(str(fip)) < 5:\n",
    "        fips_padded.append(fip)\n",
    "    else:\n",
    "        fips_padded.append(fip)\n",
    "        \n",
    "fips_branch_count_dict = {}\n",
    "\n",
    "for zipcode in td_data['zip']:\n",
    "#     print(zipcode.split('-')[0])\n",
    "    if zip_fip_dict[zipcode.split('-')[0]] not in fips_branch_count_dict:\n",
    "        fips_branch_count_dict[zip_fip_dict[zipcode.split('-')[0]]] = 1\n",
    "    elif zip_fip_dict[zipcode.split('-')[0]] in fips_branch_count_dict:\n",
    "        fips_branch_count_dict[zip_fip_dict[zipcode.split('-')[0]]] += 1\n",
    "for fip in fips_padded:\n",
    "    if fip not in fips_branch_count_dict:\n",
    "        fips_branch_count_dict[fip] = -1\n",
    "        \n",
    "# print(fips_branch_count_dict)\n",
    "        \n",
    "fips_branch_rank_dict = {}\n",
    "\n",
    "for i, row in td_data.iterrows():\n",
    "    if zip_fip_dict[row['zip'].split('-')[0]] not in fips_branch_rank_dict:\n",
    "        fips_branch_rank_dict[zip_fip_dict[row['zip'].split('-')[0]]] = row['rank']\n",
    "    elif zip_fip_dict[row['zip'].split('-')[0]] in fips_branch_rank_dict:\n",
    "        fips_branch_rank_dict[zip_fip_dict[row['zip'].split('-')[0]]] += row['rank']\n",
    "for fip in fips_padded:\n",
    "    if fip not in fips_branch_rank_dict:\n",
    "        fips_branch_rank_dict[fip] = -1\n",
    "    \n",
    "values = list(fips_branch_count_dict.values())\n",
    "\n",
    "values_avg_rank = [x/y for x, y in zip(fips_branch_rank_dict.values(), values)]"
   ]
  },
  {
   "cell_type": "code",
   "execution_count": 4,
   "metadata": {},
   "outputs": [
    {
     "name": "stdout",
     "output_type": "stream",
     "text": [
      "3404\n",
      "3404\n"
     ]
    },
    {
     "name": "stderr",
     "output_type": "stream",
     "text": [
      "/home/sushanth/.local/lib/python3.6/site-packages/pandas/core/frame.py:6211: FutureWarning:\n",
      "\n",
      "Sorting because non-concatenation axis is not aligned. A future version\n",
      "of pandas will change to not sort by default.\n",
      "\n",
      "To accept the future behavior, pass 'sort=False'.\n",
      "\n",
      "To retain the current behavior and silence the warning, pass 'sort=True'.\n",
      "\n",
      "\n",
      "/home/sushanth/.local/lib/python3.6/site-packages/plotly/plotly/plotly.py:233: UserWarning:\n",
      "\n",
      "Woah there! Look at all those points! Due to browser limitations, the Plotly SVG drawing functions have a hard time graphing more than 500k data points for line charts, or 40k points for other types of charts. Here are some suggestions:\n",
      "(1) Use the `plotly.graph_objs.Scattergl` trace object to generate a WebGl graph.\n",
      "(2) Trying using the image API to return an image instead of a graph URL\n",
      "(3) Use matplotlib\n",
      "(4) See if you can create your visualization with fewer data points\n",
      "\n",
      "If the visualization you're using aggregates points (e.g., box plot, histogram, etc.) you can disregard this warning.\n",
      "\n"
     ]
    },
    {
     "name": "stdout",
     "output_type": "stream",
     "text": [
      "High five! You successfully sent some data to your account on plotly. View your plot in your browser at https://plot.ly/~tbwa-digital-strategy/0 or inside your plot.ly account where it is named 'TD Locations'\n"
     ]
    },
    {
     "name": "stderr",
     "output_type": "stream",
     "text": [
      "/home/sushanth/.local/lib/python3.6/site-packages/plotly/api/v1/clientresp.py:40: UserWarning:\n",
      "\n",
      "Estimated Draw Time Too Long\n",
      "\n"
     ]
    },
    {
     "data": {
      "text/html": [
       "<iframe id=\"igraph\" scrolling=\"no\" style=\"border:none;\" seamless=\"seamless\" src=\"https://plot.ly/~tbwa-digital-strategy/0.embed\" height=\"450px\" width=\"900px\"></iframe>"
      ],
      "text/plain": [
       "<plotly.tools.PlotlyDisplay object>"
      ]
     },
     "execution_count": 4,
     "metadata": {},
     "output_type": "execute_result"
    }
   ],
   "source": [
    "\n",
    "county_geo = r'us-counties.json'\n",
    "print(len(fips_branch_count_dict.keys()))\n",
    "print(len(values))\n",
    "#We want to map the county codes we have in our geometry to those in the\n",
    "#county_data file, which contains additional rows we don't need\n",
    "\n",
    "county_codes = fips_padded\n",
    "county_df = pd.DataFrame({'FIPS_Code': county_codes}, dtype=str)\n",
    "\n",
    "#Read into Dataframe, cast to string for consistency\n",
    "data = pd.DataFrame.from_dict({'FIPS' : list(fips_branch_count_dict.keys()), 'Branch Count' : values})\n",
    "\n",
    "\n",
    "plotly.tools.set_credentials_file(username='tbwa-digital-strategy', api_key='S1XNx8k2kioBoyvQaNmZ')\n",
    "fig = ff.create_choropleth(fips=list(fips_branch_count_dict.keys()), values=values)\n",
    "py.iplot(fig, filename='TD Locations')"
   ]
  },
  {
   "cell_type": "code",
   "execution_count": 5,
   "metadata": {},
   "outputs": [
    {
     "name": "stdout",
     "output_type": "stream",
     "text": [
      "3404\n",
      "3404\n"
     ]
    },
    {
     "name": "stderr",
     "output_type": "stream",
     "text": [
      "/home/sushanth/.local/lib/python3.6/site-packages/pandas/core/frame.py:6211: FutureWarning:\n",
      "\n",
      "Sorting because non-concatenation axis is not aligned. A future version\n",
      "of pandas will change to not sort by default.\n",
      "\n",
      "To accept the future behavior, pass 'sort=False'.\n",
      "\n",
      "To retain the current behavior and silence the warning, pass 'sort=True'.\n",
      "\n",
      "\n",
      "/home/sushanth/.local/lib/python3.6/site-packages/plotly/plotly/plotly.py:233: UserWarning:\n",
      "\n",
      "Woah there! Look at all those points! Due to browser limitations, the Plotly SVG drawing functions have a hard time graphing more than 500k data points for line charts, or 40k points for other types of charts. Here are some suggestions:\n",
      "(1) Use the `plotly.graph_objs.Scattergl` trace object to generate a WebGl graph.\n",
      "(2) Trying using the image API to return an image instead of a graph URL\n",
      "(3) Use matplotlib\n",
      "(4) See if you can create your visualization with fewer data points\n",
      "\n",
      "If the visualization you're using aggregates points (e.g., box plot, histogram, etc.) you can disregard this warning.\n",
      "\n"
     ]
    },
    {
     "name": "stdout",
     "output_type": "stream",
     "text": [
      "The draw time for this plot will be slow for all clients.\n"
     ]
    },
    {
     "name": "stderr",
     "output_type": "stream",
     "text": [
      "/home/sushanth/.local/lib/python3.6/site-packages/plotly/api/v1/clientresp.py:40: UserWarning:\n",
      "\n",
      "Estimated Draw Time Too Long\n",
      "\n"
     ]
    },
    {
     "data": {
      "text/html": [
       "<iframe id=\"igraph\" scrolling=\"no\" style=\"border:none;\" seamless=\"seamless\" src=\"https://plot.ly/~tbwa-digital-strategy/4.embed\" height=\"450px\" width=\"900px\"></iframe>"
      ],
      "text/plain": [
       "<plotly.tools.PlotlyDisplay object>"
      ]
     },
     "execution_count": 5,
     "metadata": {},
     "output_type": "execute_result"
    }
   ],
   "source": [
    "print(len(fips_branch_count_dict.keys()))\n",
    "print(len(values_avg_rank))\n",
    "fig2 = ff.create_choropleth(fips=list(fips_branch_count_dict.keys()), values=values_avg_rank)\n",
    "py.iplot(fig2, filename='TD Locations Rank Heatmap')"
   ]
  },
  {
   "cell_type": "code",
   "execution_count": null,
   "metadata": {},
   "outputs": [],
   "source": []
  }
 ],
 "metadata": {
  "kernelspec": {
   "display_name": "Python 3",
   "language": "python",
   "name": "python3"
  },
  "language_info": {
   "codemirror_mode": {
    "name": "ipython",
    "version": 3
   },
   "file_extension": ".py",
   "mimetype": "text/x-python",
   "name": "python",
   "nbconvert_exporter": "python",
   "pygments_lexer": "ipython3",
   "version": "3.6.5"
  }
 },
 "nbformat": 4,
 "nbformat_minor": 2
}
