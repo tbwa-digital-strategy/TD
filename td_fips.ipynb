{
 "cells": [
  {
   "cell_type": "code",
   "execution_count": 54,
   "metadata": {},
   "outputs": [],
   "source": [
    "import plotly.plotly as py\n",
    "import plotly.figure_factory as ff\n",
    "import pandas as pd"
   ]
  },
  {
   "cell_type": "code",
   "execution_count": 55,
   "metadata": {
    "scrolled": true
   },
   "outputs": [],
   "source": [
    "fips_df = pd.read_csv('ZIP-COUNTY-FIPS_2018-03.csv')\n",
    "\n",
    "zip_fip_dict = {}\n",
    "\n",
    "for i, row in fips_df.iterrows():\n",
    "    if len(str(row['fips'])) < 5:\n",
    "        new_fip = '0'+str(row['fips'])\n",
    "        zip_fip_dict[row['zip']] = new_fip\n",
    "    else:\n",
    "        zip_fip_dict[row['zip']] = row['fips']\n",
    "\n",
    "fips = fips_df['fips']\n",
    "fips_padded = []\n",
    "for fip in fips:\n",
    "    if len(str(fip)) < 5:\n",
    "        new_fip = '0'+str(fip)\n",
    "        fips_padded.append(new_fip)\n",
    "        \n",
    "fips_branch_count_dict = {}\n",
    "\n",
    "for key in zip_fip_dict:\n",
    "    if zip_fip_dict[key] not in fips_branch_count_dict:\n",
    "        fips_branch_count_dict[zip_fip_dict[key]] = 1\n",
    "    else:\n",
    "        fips_branch_count_dict[zip_fip_dict[key]] += 1\n",
    "for fip in fips_padded:\n",
    "    if fip not in fips_branch_count_dict:\n",
    "        fips_branch_count_dict[fip] = 0\n",
    "    \n",
    "values = list(fips_branch_count_dict.values())"
   ]
  },
  {
   "cell_type": "code",
   "execution_count": 56,
   "metadata": {},
   "outputs": [
    {
     "name": "stdout",
     "output_type": "stream",
     "text": [
      "3142\n",
      "3142\n",
      "       FIPS  Branch Count\n",
      "0     01021             8\n",
      "1     01047             4\n",
      "2     01051            12\n",
      "3     01105             9\n",
      "4     01001             3\n",
      "5     01099            15\n",
      "6     01003            25\n",
      "7     01053             8\n",
      "8     01005             4\n",
      "9     01067             4\n",
      "10    01045             7\n",
      "11    01113            15\n",
      "12    01117            26\n",
      "13    01125            34\n",
      "14    01007             1\n",
      "15    01127            20\n",
      "16    01115            18\n",
      "17    01095            16\n",
      "18    01009             3\n",
      "19    01073            72\n",
      "20    01103            16\n",
      "21    01101            39\n",
      "22    01087             8\n",
      "23    01011             1\n",
      "24    01109             8\n",
      "25    01041             6\n",
      "26    01013             1\n",
      "27    01039             6\n",
      "28    01131            16\n",
      "29    01085             5\n",
      "...     ...           ...\n",
      "3112  72031             9\n",
      "3113  72033             2\n",
      "3114  72053             2\n",
      "3115  72037             1\n",
      "3116  72107             1\n",
      "3117  72135             2\n",
      "3118  72049             1\n",
      "3119  72143             1\n",
      "3120  72145             5\n",
      "3121  72153             3\n",
      "3122  72121             2\n",
      "3123  72059             1\n",
      "3124  72069             3\n",
      "3125  72115             2\n",
      "3126  72073             1\n",
      "3127  72149             2\n",
      "3128  72081             2\n",
      "3129  72083             1\n",
      "3130  72089             1\n",
      "3131  72095             1\n",
      "3132  72131             1\n",
      "3133  72103             2\n",
      "3134  72133             2\n",
      "3135  72123             1\n",
      "3136  72147             1\n",
      "3137  72151             1\n",
      "3138  78010             3\n",
      "3139  78020             1\n",
      "3140  78030             1\n",
      "3141  08027             0\n",
      "\n",
      "[3142 rows x 2 columns]\n"
     ]
    },
    {
     "ename": "ImportError",
     "evalue": "geopandas, pyshp and shapely must be installed for this figure factory.\n\nRun the following commands to install the correct versions of the following modules:\n\n```\npip install geopandas==0.3.0\npip install pyshp==1.2.10\npip install shapely==1.6.3\n```\nIf you are using Windows, follow this post to properly install geopandas and dependencies:http://geoffboeing.com/2014/09/using-geopandas-windows/\n\nIf you are using Anaconda, do not use PIP to install the packages above. Instead use conda to install them:\n\n```\nconda install plotly\nconda install geopandas\n```",
     "output_type": "error",
     "traceback": [
      "\u001b[0;31m---------------------------------------------------------------------------\u001b[0m",
      "\u001b[0;31mImportError\u001b[0m                               Traceback (most recent call last)",
      "\u001b[0;32m<ipython-input-56-1153b437ecb4>\u001b[0m in \u001b[0;36m<module>\u001b[0;34m()\u001b[0m\n\u001b[1;32m     16\u001b[0m \u001b[0mprint\u001b[0m\u001b[0;34m(\u001b[0m\u001b[0mdata\u001b[0m\u001b[0;34m)\u001b[0m\u001b[0;34m\u001b[0m\u001b[0m\n\u001b[1;32m     17\u001b[0m \u001b[0;34m\u001b[0m\u001b[0m\n\u001b[0;32m---> 18\u001b[0;31m \u001b[0mfig\u001b[0m \u001b[0;34m=\u001b[0m \u001b[0mff\u001b[0m\u001b[0;34m.\u001b[0m\u001b[0mcreate_choropleth\u001b[0m\u001b[0;34m(\u001b[0m\u001b[0mfips\u001b[0m\u001b[0;34m=\u001b[0m\u001b[0mlist\u001b[0m\u001b[0;34m(\u001b[0m\u001b[0mfips_branch_count_dict\u001b[0m\u001b[0;34m.\u001b[0m\u001b[0mkeys\u001b[0m\u001b[0;34m(\u001b[0m\u001b[0;34m)\u001b[0m\u001b[0;34m)\u001b[0m\u001b[0;34m,\u001b[0m \u001b[0mvalues\u001b[0m\u001b[0;34m=\u001b[0m\u001b[0mvalues\u001b[0m\u001b[0;34m)\u001b[0m\u001b[0;34m\u001b[0m\u001b[0m\n\u001b[0m\u001b[1;32m     19\u001b[0m \u001b[0mpy\u001b[0m\u001b[0;34m.\u001b[0m\u001b[0miplot\u001b[0m\u001b[0;34m(\u001b[0m\u001b[0mfig\u001b[0m\u001b[0;34m,\u001b[0m \u001b[0mfilename\u001b[0m\u001b[0;34m=\u001b[0m\u001b[0;34m'TD Locations'\u001b[0m\u001b[0;34m)\u001b[0m\u001b[0;34m\u001b[0m\u001b[0m\n",
      "\u001b[0;32m~/anaconda3/lib/python3.6/site-packages/plotly/figure_factory/_county_choropleth.py\u001b[0m in \u001b[0;36mcreate_choropleth\u001b[0;34m(fips, values, scope, binning_endpoints, colorscale, order, simplify_county, simplify_state, asp, show_hover, show_state_data, state_outline, county_outline, centroid_marker, round_legend_values, exponent_format, legend_title, **layout_options)\u001b[0m\n\u001b[1;32m    563\u001b[0m     \u001b[0;32mif\u001b[0m \u001b[0;32mnot\u001b[0m \u001b[0mgp\u001b[0m \u001b[0;32mor\u001b[0m \u001b[0;32mnot\u001b[0m \u001b[0mshapefile\u001b[0m \u001b[0;32mor\u001b[0m \u001b[0;32mnot\u001b[0m \u001b[0mshapely\u001b[0m\u001b[0;34m:\u001b[0m\u001b[0;34m\u001b[0m\u001b[0m\n\u001b[1;32m    564\u001b[0m         raise ImportError(\n\u001b[0;32m--> 565\u001b[0;31m             \u001b[0;34m\"geopandas, pyshp and shapely must be installed for this figure \"\u001b[0m\u001b[0;34m\u001b[0m\u001b[0m\n\u001b[0m\u001b[1;32m    566\u001b[0m             \u001b[0;34m\"factory.\\n\\nRun the following commands to install the correct \"\u001b[0m\u001b[0;34m\u001b[0m\u001b[0m\n\u001b[1;32m    567\u001b[0m             \u001b[0;34m\"versions of the following modules:\\n\\n\"\u001b[0m\u001b[0;34m\u001b[0m\u001b[0m\n",
      "\u001b[0;31mImportError\u001b[0m: geopandas, pyshp and shapely must be installed for this figure factory.\n\nRun the following commands to install the correct versions of the following modules:\n\n```\npip install geopandas==0.3.0\npip install pyshp==1.2.10\npip install shapely==1.6.3\n```\nIf you are using Windows, follow this post to properly install geopandas and dependencies:http://geoffboeing.com/2014/09/using-geopandas-windows/\n\nIf you are using Anaconda, do not use PIP to install the packages above. Instead use conda to install them:\n\n```\nconda install plotly\nconda install geopandas\n```"
     ]
    }
   ],
   "source": [
    "\n",
    "county_geo = r'us-counties.json'\n",
    "print(len(fips_branch_count_dict.keys()))\n",
    "print(len(values))\n",
    "#We want to map the county codes we have in our geometry to those in the\n",
    "#county_data file, which contains additional rows we don't need\n",
    "with open(county_geo, 'r') as f:\n",
    "    get_id = json.load(f)\n",
    "\n",
    "county_codes = fips_padded\n",
    "county_df = pd.DataFrame({'FIPS_Code': county_codes}, dtype=str)\n",
    "\n",
    "#Read into Dataframe, cast to string for consistency\n",
    "data = pd.DataFrame.from_dict({'FIPS' : list(fips_branch_count_dict.keys()), 'Branch Count' : values})\n",
    "\n",
    "print(data)\n",
    "\n",
    "fig = ff.create_choropleth(fips=list(fips_branch_count_dict.keys()), values=values)\n",
    "py.iplot(fig, filename='TD Locations')"
   ]
  },
  {
   "cell_type": "code",
   "execution_count": null,
   "metadata": {},
   "outputs": [],
   "source": []
  }
 ],
 "metadata": {
  "kernelspec": {
   "display_name": "Python 3",
   "language": "python",
   "name": "python3"
  },
  "language_info": {
   "codemirror_mode": {
    "name": "ipython",
    "version": 3
   },
   "file_extension": ".py",
   "mimetype": "text/x-python",
   "name": "python",
   "nbconvert_exporter": "python",
   "pygments_lexer": "ipython3",
   "version": "3.6.5"
  }
 },
 "nbformat": 4,
 "nbformat_minor": 2
}
